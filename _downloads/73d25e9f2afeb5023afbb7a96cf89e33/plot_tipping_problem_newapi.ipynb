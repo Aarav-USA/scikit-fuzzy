{
  "metadata": {
    "name": ""
  },
  "nbformat": 3,
  "nbformat_minor": 0,
  "worksheets": [
    {
      "cells": [
        {
          "cell_type": "code",
          "collapsed": false,
          "input": [
            "%matplotlib inline"
          ],
          "language": "python",
          "metadata": {},
          "outputs": []
        },
        {
          "cell_type": "markdown",
          "metadata": {},
          "source": "<div class=\"document\" id=\"fuzzy-control-systems-the-tipping-problem\">\n<h1 class=\"title\">Fuzzy Control Systems: The Tipping Problem</h1>\n<p>The 'tipping problem' is commonly used to illustrate the power of fuzzy logic\nprinciples to generate complex behavior from a compact, intuitive set of\nexpert rules.</p>\n<p>If you're new to the world of fuzzy control systems, you might want\nto check out the <a class=\"reference external\" href=\"../userguide/fuzzy_control_primer.html\">Fuzzy Control Primer</a>\nbefore reading through this worked example.</p>\n<div class=\"section\" id=\"the-tipping-problem\">\n<h1>The Tipping Problem</h1>\n<p>Let's create a fuzzy control system which models how you might choose to tip\nat a restaurant.  When tipping, you consider the service and food quality,\nrated between 0 and 10.  You use this to leave a tip of between 0 and 25%.</p>\n<p>We would formulate this problem as:</p>\n<ul class=\"simple\">\n<li><dl class=\"first docutils\">\n<dt>Antecedents (Inputs)</dt>\n<dd><ul class=\"first last\">\n<li><dl class=\"first docutils\">\n<dt><cite>service</cite></dt>\n<dd><ul class=\"first last\">\n<li>Universe (ie, crisp value range): How good was the service of the wait\nstaff, on a scale of 0 to 10?</li>\n<li>Fuzzy set (ie, fuzzy value range): poor, acceptable, amazing</li>\n</ul>\n</dd>\n</dl>\n</li>\n<li><dl class=\"first docutils\">\n<dt><cite>food quality</cite></dt>\n<dd><ul class=\"first last\">\n<li>Universe: How tasty was the food, on a scale of 0 to 10?</li>\n<li>Fuzzy set: bad, decent, great</li>\n</ul>\n</dd>\n</dl>\n</li>\n</ul>\n</dd>\n</dl>\n</li>\n<li><dl class=\"first docutils\">\n<dt>Consequents (Outputs)</dt>\n<dd><ul class=\"first last\">\n<li><dl class=\"first docutils\">\n<dt><cite>tip</cite></dt>\n<dd><ul class=\"first last\">\n<li>Universe: How much should we tip, on a scale of 0% to 25%</li>\n<li>Fuzzy set: low, medium, high</li>\n</ul>\n</dd>\n</dl>\n</li>\n</ul>\n</dd>\n</dl>\n</li>\n<li><dl class=\"first docutils\">\n<dt>Rules</dt>\n<dd><ul class=\"first last\">\n<li>IF the <em>service</em> was good  <em>or</em> the <em>food quality</em> was good,\nTHEN the tip will be high.</li>\n<li>IF the <em>service</em> was average, THEN the tip will be medium.</li>\n<li>IF the <em>service</em> was poor <em>and</em> the <em>food quality</em> was poor\nTHEN the tip will be low.</li>\n</ul>\n</dd>\n</dl>\n</li>\n<li><dl class=\"first docutils\">\n<dt>Usage</dt>\n<dd><ul class=\"first last\">\n<li><dl class=\"first docutils\">\n<dt>If I tell this controller that I rated:</dt>\n<dd><ul class=\"first last\">\n<li>the service as 9.8, and</li>\n<li>the quality as 6.5,</li>\n</ul>\n</dd>\n</dl>\n</li>\n<li><dl class=\"first docutils\">\n<dt>it would recommend I leave:</dt>\n<dd><ul class=\"first last\">\n<li>a 20.2% tip.</li>\n</ul>\n</dd>\n</dl>\n</li>\n</ul>\n</dd>\n</dl>\n</li>\n</ul>\n</div>\n<div class=\"section\" id=\"creating-the-tipping-controller-using-the-skfuzzy-control-api\">\n<h1>Creating the Tipping Controller Using the skfuzzy control API</h1>\n<p>We can use the <cite>skfuzzy</cite> control system API to model this.  First, let's\ndefine fuzzy variables</p>\n</div>\n</div>\n"
        },
        {
          "cell_type": "code",
          "collapsed": false,
          "input": "import numpy as np\nimport skfuzzy as fuzz\nfrom skfuzzy import control as ctrl\n\n# New Antecedent/Consequent objects hold universe variables and membership\n# functions\nquality = ctrl.Antecedent(np.arange(0, 11, 1), 'quality')\nservice = ctrl.Antecedent(np.arange(0, 11, 1), 'service')\ntip = ctrl.Consequent(np.arange(0, 26, 1), 'tip')\n\n# Auto-membership function population is possible with .automf(3, 5, or 7)\nquality.automf(3)\nservice.automf(3)\n\n# Custom membership functions can be built interactively with a familiar,\n# Pythonic API\ntip['low'] = fuzz.trimf(tip.universe, [0, 0, 13])\ntip['medium'] = fuzz.trimf(tip.universe, [0, 13, 25])\ntip['high'] = fuzz.trimf(tip.universe, [13, 25, 25])\n\n",
          "language": "python",
          "metadata": {},
          "outputs": []
        },
        {
          "cell_type": "markdown",
          "metadata": {},
          "source": "<div class=\"document\">\n<p>To help understand what the membership looks like, use the <tt class=\"docutils literal\">view</tt> methods.</p>\n<p>These return the matplotlib <cite>Figure</cite> and <cite>Axis</cite> objects. They are persistent\nas written in Jupyter notebooks; other environments may require a <cite>plt.show()</cite>\ncommand after each <cite>.view()</cite>.</p>\n</div>\n"
        },
        {
          "cell_type": "code",
          "collapsed": false,
          "input": "\n# You can see how these look with .view()\nquality['average'].view()\n",
          "language": "python",
          "metadata": {},
          "outputs": []
        },
        {
          "cell_type": "markdown",
          "metadata": {},
          "source": "<div class=\"document\">\n</div>\n"
        },
        {
          "cell_type": "code",
          "collapsed": false,
          "input": "service.view()\n",
          "language": "python",
          "metadata": {},
          "outputs": []
        },
        {
          "cell_type": "markdown",
          "metadata": {},
          "source": "<div class=\"document\">\n</div>\n"
        },
        {
          "cell_type": "code",
          "collapsed": false,
          "input": "tip.view()\n",
          "language": "python",
          "metadata": {},
          "outputs": []
        },
        {
          "cell_type": "markdown",
          "metadata": {},
          "source": "<div class=\"document\" id=\"fuzzy-rules\">\n<h1 class=\"title\">Fuzzy rules</h1>\n<p>Now, to make these triangles useful, we define the <em>fuzzy relationship</em>\nbetween input and output variables. For the purposes of our example, consider\nthree simple rules:</p>\n<ol class=\"arabic simple\">\n<li>If the food is poor OR the service is poor, then the tip will be low</li>\n<li>If the service is average, then the tip will be medium</li>\n<li>If the food is good OR the service is good, then the tip will be high.</li>\n</ol>\n<p>Most people would agree on these rules, but the rules are fuzzy. Mapping the\nimprecise rules into a defined, actionable tip is a challenge. This is the\nkind of task at which fuzzy logic excels.</p>\n</div>\n"
        },
        {
          "cell_type": "code",
          "collapsed": false,
          "input": "\nrule1 = ctrl.Rule(quality['poor'] | service['poor'], tip['low'])\nrule2 = ctrl.Rule(service['average'], tip['medium'])\nrule3 = ctrl.Rule(service['good'] | quality['good'], tip['high'])\n\nrule1.view()\n\n",
          "language": "python",
          "metadata": {},
          "outputs": []
        },
        {
          "cell_type": "markdown",
          "metadata": {},
          "source": "<div class=\"document\" id=\"control-system-creation-and-simulation\">\n<h1 class=\"title\">Control System Creation and Simulation</h1>\n<p>Now that we have our rules defined, we can simply create a control system\nvia:</p>\n</div>\n"
        },
        {
          "cell_type": "code",
          "collapsed": false,
          "input": "\ntipping_ctrl = ctrl.ControlSystem([rule1, rule2, rule3])\n\n",
          "language": "python",
          "metadata": {},
          "outputs": []
        },
        {
          "cell_type": "markdown",
          "metadata": {},
          "source": "<div class=\"document\">\n<p>In order to simulate this control system, we will create a\n<tt class=\"docutils literal\">ControlSystemSimulation</tt>.  Think of this object representing our controller\napplied to a specific set of circumstances.  For tipping, this might be tipping\nSharon at the local brew-pub.  We would create another\n<tt class=\"docutils literal\">ControlSystemSimulation</tt> when we're trying to apply our <tt class=\"docutils literal\">tipping_ctrl</tt>\nfor Travis at the cafe because the inputs would be different.</p>\n</div>\n"
        },
        {
          "cell_type": "code",
          "collapsed": false,
          "input": "\ntipping = ctrl.ControlSystemSimulation(tipping_ctrl)\n\n",
          "language": "python",
          "metadata": {},
          "outputs": []
        },
        {
          "cell_type": "markdown",
          "metadata": {},
          "source": "<div class=\"document\">\n<p>We can now simulate our control system by simply specifying the inputs\nand calling the <tt class=\"docutils literal\">compute</tt> method.  Suppose we rated the quality 6.5 out of 10\nand the service 9.8 of 10.</p>\n</div>\n"
        },
        {
          "cell_type": "code",
          "collapsed": false,
          "input": "# Pass inputs to the ControlSystem using Antecedent labels with Pythonic API\n# Note: if you like passing many inputs all at once, use .inputs(dict_of_data)\ntipping.input['quality'] = 6.5\ntipping.input['service'] = 9.8\n\n# Crunch the numbers\ntipping.compute()\n\n",
          "language": "python",
          "metadata": {},
          "outputs": []
        },
        {
          "cell_type": "markdown",
          "metadata": {},
          "source": "<div class=\"document\">\n<p>Once computed, we can view the result as well as visualize it.</p>\n</div>\n"
        },
        {
          "cell_type": "code",
          "collapsed": false,
          "input": "print(tipping.output['tip'])\ntip.view(sim=tipping)\n\n",
          "language": "python",
          "metadata": {},
          "outputs": []
        },
        {
          "cell_type": "markdown",
          "metadata": {},
          "source": "<div class=\"document\">\n<p>The resulting suggested tip is <strong>19.84%</strong>.</p>\n<div class=\"section\" id=\"final-thoughts\">\n<h1>Final thoughts</h1>\n<p>The power of fuzzy systems is allowing complicated, intuitive behavior based\non a sparse system of rules with minimal overhead. Note our membership\nfunction universes were coarse, only defined at the integers, but\n<tt class=\"docutils literal\">fuzz.interp_membership</tt> allowed the effective resolution to increase on\ndemand. This system can respond to arbitrarily small changes in inputs,\nand the processing burden is minimal.</p>\n</div>\n</div>\n"
        }
      ],
      "metadata": {}
    }
  ]
}