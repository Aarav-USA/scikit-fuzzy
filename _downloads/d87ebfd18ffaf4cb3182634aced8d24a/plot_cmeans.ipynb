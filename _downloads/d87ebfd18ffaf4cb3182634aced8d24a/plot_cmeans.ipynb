{
  "metadata": {
    "name": ""
  },
  "nbformat": 3,
  "nbformat_minor": 0,
  "worksheets": [
    {
      "cells": [
        {
          "cell_type": "code",
          "collapsed": false,
          "input": [
            "%matplotlib inline"
          ],
          "language": "python",
          "metadata": {},
          "outputs": []
        },
        {
          "cell_type": "markdown",
          "metadata": {},
          "source": "<div class=\"document\" id=\"fuzzy-c-means-clustering\">\n<h1 class=\"title\">Fuzzy c-means clustering</h1>\n<p>Fuzzy logic principles can be used to cluster multidimensional data, assigning\neach point a <em>membership</em> in each cluster center from 0 to 100 percent. This\ncan be very powerful compared to traditional hard-thresholded clustering where\nevery point is assigned a crisp, exact label.</p>\n<p>Fuzzy c-means clustering is accomplished via <tt class=\"docutils literal\">skfuzzy.cmeans</tt>, and the\noutput from this function can be repurposed to classify new data according to\nthe calculated clusters (also known as <em>prediction</em>) via\n<tt class=\"docutils literal\">skfuzzy.cmeans_predict</tt></p>\n<div class=\"section\" id=\"data-generation-and-setup\">\n<h1>Data generation and setup</h1>\n<p>In this example we will first undertake necessary imports, then define some\ntest data to work with.</p>\n</div>\n</div>\n"
        },
        {
          "cell_type": "code",
          "collapsed": false,
          "input": "import matplotlib.pyplot as plt\nimport numpy as np\nimport skfuzzy as fuzz\n\ncolors = ['b', 'orange', 'g', 'r', 'c', 'm', 'y', 'k', 'Brown', 'ForestGreen']\n\n# Define three cluster centers\ncenters = [[4, 2],\n           [1, 7],\n           [5, 6]]\n\n# Define three cluster sigmas in x and y, respectively\nsigmas = [[0.8, 0.3],\n          [0.3, 0.5],\n          [1.1, 0.7]]\n\n# Generate test data\nnp.random.seed(42)  # Set seed for reproducibility\nxpts = np.zeros(1)\nypts = np.zeros(1)\nlabels = np.zeros(1)\nfor i, ((xmu, ymu), (xsigma, ysigma)) in enumerate(zip(centers, sigmas)):\n    xpts = np.hstack((xpts, np.random.standard_normal(200) * xsigma + xmu))\n    ypts = np.hstack((ypts, np.random.standard_normal(200) * ysigma + ymu))\n    labels = np.hstack((labels, np.ones(200) * i))\n\n# Visualize the test data\nfig0, ax0 = plt.subplots()\nfor label in range(3):\n    ax0.plot(xpts[labels == label], ypts[labels == label], '.',\n             color=colors[label])\nax0.set_title('Test data: 200 points x3 clusters.')\n\n",
          "language": "python",
          "metadata": {},
          "outputs": []
        },
        {
          "cell_type": "markdown",
          "metadata": {},
          "source": "<div class=\"document\" id=\"clustering\">\n<h1 class=\"title\">Clustering</h1>\n<p>Above is our test data. We see three distinct blobs. However, what would happen\nif we didn't know how many clusters we should expect? Perhaps if the data were\nnot so clearly clustered?</p>\n<p>Let's try clustering our data several times, with between 2 and 9 clusters.</p>\n</div>\n"
        },
        {
          "cell_type": "code",
          "collapsed": false,
          "input": "# Set up the loop and plot\nfig1, axes1 = plt.subplots(3, 3, figsize=(8, 8))\nalldata = np.vstack((xpts, ypts))\nfpcs = []\n\nfor ncenters, ax in enumerate(axes1.reshape(-1), 2):\n    cntr, u, u0, d, jm, p, fpc = fuzz.cluster.cmeans(\n        alldata, ncenters, 2, error=0.005, maxiter=1000, init=None)\n\n    # Store fpc values for later\n    fpcs.append(fpc)\n\n    # Plot assigned clusters, for each data point in training set\n    cluster_membership = np.argmax(u, axis=0)\n    for j in range(ncenters):\n        ax.plot(xpts[cluster_membership == j],\n                ypts[cluster_membership == j], '.', color=colors[j])\n\n    # Mark the center of each fuzzy cluster\n    for pt in cntr:\n        ax.plot(pt[0], pt[1], 'rs')\n\n    ax.set_title('Centers = {0}; FPC = {1:.2f}'.format(ncenters, fpc))\n    ax.axis('off')\n\nfig1.tight_layout()\n\n",
          "language": "python",
          "metadata": {},
          "outputs": []
        },
        {
          "cell_type": "markdown",
          "metadata": {},
          "source": "<div class=\"document\" id=\"the-fuzzy-partition-coefficient-fpc\">\n<h1 class=\"title\">The fuzzy partition coefficient (FPC)</h1>\n<p>The FPC is defined on the range from 0 to 1, with 1 being best. It is a metric\nwhich tells us how cleanly our data is described by a certain model. Next we\nwill cluster our set of data - which we know has three clusters - several\ntimes, with between 2 and 9 clusters. We will then show the results of the\nclustering, and plot the fuzzy partition coefficient. When the FPC is\nmaximized, our data is described best.</p>\n</div>\n"
        },
        {
          "cell_type": "code",
          "collapsed": false,
          "input": "\nfig2, ax2 = plt.subplots()\nax2.plot(np.r_[2:11], fpcs)\nax2.set_xlabel(\"Number of centers\")\nax2.set_ylabel(\"Fuzzy partition coefficient\")\n\n",
          "language": "python",
          "metadata": {},
          "outputs": []
        },
        {
          "cell_type": "markdown",
          "metadata": {},
          "source": "<div class=\"document\">\n<p>As we can see, the ideal number of centers is 3. This isn't news for our\ncontrived example, but having the FPC available can be very useful when the\nstructure of your data is unclear.</p>\n<p>Note that we started with <em>two</em> centers, not one; clustering a dataset with\nonly one cluster center is the trivial solution and will by definition return\nFPC == 1.</p>\n<div class=\"section\" id=\"classifying-new-data\">\n<h1>Classifying New Data</h1>\n<p>Now that we can cluster data, the next step is often fitting new points into\nan existing model. This is known as prediction. It requires both an existing\nmodel and new data to be classified.</p>\n<div class=\"section\" id=\"building-the-model\">\n<h2>Building the model</h2>\n<p>We know our best model has three cluster centers. We'll rebuild a 3-cluster\nmodel for use in prediction, generate new uniform data, and predict which\ncluster to which each new data point belongs.</p>\n</div>\n</div>\n</div>\n"
        },
        {
          "cell_type": "code",
          "collapsed": false,
          "input": "# Regenerate fuzzy model with 3 cluster centers - note that center ordering\n# is random in this clustering algorithm, so the centers may change places\ncntr, u_orig, _, _, _, _, _ = fuzz.cluster.cmeans(\n    alldata, 3, 2, error=0.005, maxiter=1000)\n\n# Show 3-cluster model\nfig2, ax2 = plt.subplots()\nax2.set_title('Trained model')\nfor j in range(3):\n    ax2.plot(alldata[0, u_orig.argmax(axis=0) == j],\n             alldata[1, u_orig.argmax(axis=0) == j], 'o',\n             label='series ' + str(j))\nax2.legend()\n\n",
          "language": "python",
          "metadata": {},
          "outputs": []
        },
        {
          "cell_type": "markdown",
          "metadata": {},
          "source": "<div class=\"document\" id=\"prediction\">\n<h1 class=\"title\">Prediction</h1>\n<p>Finally, we generate uniformly sampled data over this field and classify it\nvia <tt class=\"docutils literal\">cmeans_predict</tt>, incorporating it into the pre-existing model.</p>\n</div>\n"
        },
        {
          "cell_type": "code",
          "collapsed": false,
          "input": "\n# Generate uniformly sampled data spread across the range [0, 10] in x and y\nnewdata = np.random.uniform(0, 1, (1100, 2)) * 10\n\n# Predict new cluster membership with `cmeans_predict` as well as\n# `cntr` from the 3-cluster model\nu, u0, d, jm, p, fpc = fuzz.cluster.cmeans_predict(\n    newdata.T, cntr, 2, error=0.005, maxiter=1000)\n\n# Plot the classified uniform data. Note for visualization the maximum\n# membership value has been taken at each point (i.e. these are hardened,\n# not fuzzy results visualized) but the full fuzzy result is the output\n# from cmeans_predict.\ncluster_membership = np.argmax(u, axis=0)  # Hardening for visualization\n\nfig3, ax3 = plt.subplots()\nax3.set_title('Random points classified according to known centers')\nfor j in range(3):\n    ax3.plot(newdata[cluster_membership == j, 0],\n             newdata[cluster_membership == j, 1], 'o',\n             label='series ' + str(j))\nax3.legend()\n\nplt.show()\n\n",
          "language": "python",
          "metadata": {},
          "outputs": []
        },
        {
          "cell_type": "markdown",
          "metadata": {},
          "source": "<div class=\"document\">\n</div>\n"
        }
      ],
      "metadata": {}
    }
  ]
}