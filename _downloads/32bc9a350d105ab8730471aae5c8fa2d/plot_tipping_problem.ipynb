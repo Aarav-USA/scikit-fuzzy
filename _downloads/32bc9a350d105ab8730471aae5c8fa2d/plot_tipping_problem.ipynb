{
  "metadata": {
    "name": ""
  },
  "nbformat": 3,
  "nbformat_minor": 0,
  "worksheets": [
    {
      "cells": [
        {
          "cell_type": "code",
          "collapsed": false,
          "input": [
            "%matplotlib inline"
          ],
          "language": "python",
          "metadata": {},
          "outputs": []
        },
        {
          "cell_type": "markdown",
          "metadata": {},
          "source": "<div class=\"document\" id=\"the-tipping-problem-the-hard-way\">\n<h1 class=\"title\">The Tipping Problem - The Hard Way</h1>\n<blockquote>\nNote: This method computes everything by hand, step by step. For most people,\nthe new API for fuzzy systems will be preferable. The same problem is solved\nwith the new API <a class=\"reference external\" href=\"./plot_tipping_problem_newapi.html\">in this example</a>.</blockquote>\n<p>The 'tipping problem' is commonly used to illustrate the power of fuzzy logic\nprinciples to generate complex behavior from a compact, intuitive set of\nexpert rules.</p>\n<div class=\"section\" id=\"input-variables\">\n<h1>Input variables</h1>\n<p>A number of variables play into the decision about how much to tip while\ndining. Consider two of them:</p>\n<ul class=\"simple\">\n<li><tt class=\"docutils literal\">quality</tt> : Quality of the food</li>\n<li><tt class=\"docutils literal\">service</tt> : Quality of the service</li>\n</ul>\n</div>\n<div class=\"section\" id=\"output-variable\">\n<h1>Output variable</h1>\n<p>The output variable is simply the tip amount, in percentage points:</p>\n<ul class=\"simple\">\n<li><tt class=\"docutils literal\">tip</tt> : Percent of bill to add as tip</li>\n</ul>\n<p>For the purposes of discussion, let's say we need 'high', 'medium', and 'low'\nmembership functions for both input variables and our output variable. These\nare defined in scikit-fuzzy as follows</p>\n</div>\n</div>\n"
        },
        {
          "cell_type": "code",
          "collapsed": false,
          "input": "import numpy as np\nimport skfuzzy as fuzz\nimport matplotlib.pyplot as plt\n\n# Generate universe variables\n#   * Quality and service on subjective ranges [0, 10]\n#   * Tip has a range of [0, 25] in units of percentage points\nx_qual = np.arange(0, 11, 1)\nx_serv = np.arange(0, 11, 1)\nx_tip = np.arange(0, 26, 1)\n\n# Generate fuzzy membership functions\nqual_lo = fuzz.trimf(x_qual, [0, 0, 5])\nqual_md = fuzz.trimf(x_qual, [0, 5, 10])\nqual_hi = fuzz.trimf(x_qual, [5, 10, 10])\nserv_lo = fuzz.trimf(x_serv, [0, 0, 5])\nserv_md = fuzz.trimf(x_serv, [0, 5, 10])\nserv_hi = fuzz.trimf(x_serv, [5, 10, 10])\ntip_lo = fuzz.trimf(x_tip, [0, 0, 13])\ntip_md = fuzz.trimf(x_tip, [0, 13, 25])\ntip_hi = fuzz.trimf(x_tip, [13, 25, 25])\n\n# Visualize these universes and membership functions\nfig, (ax0, ax1, ax2) = plt.subplots(nrows=3, figsize=(8, 9))\n\nax0.plot(x_qual, qual_lo, 'b', linewidth=1.5, label='Bad')\nax0.plot(x_qual, qual_md, 'g', linewidth=1.5, label='Decent')\nax0.plot(x_qual, qual_hi, 'r', linewidth=1.5, label='Great')\nax0.set_title('Food quality')\nax0.legend()\n\nax1.plot(x_serv, serv_lo, 'b', linewidth=1.5, label='Poor')\nax1.plot(x_serv, serv_md, 'g', linewidth=1.5, label='Acceptable')\nax1.plot(x_serv, serv_hi, 'r', linewidth=1.5, label='Amazing')\nax1.set_title('Service quality')\nax1.legend()\n\nax2.plot(x_tip, tip_lo, 'b', linewidth=1.5, label='Low')\nax2.plot(x_tip, tip_md, 'g', linewidth=1.5, label='Medium')\nax2.plot(x_tip, tip_hi, 'r', linewidth=1.5, label='High')\nax2.set_title('Tip amount')\nax2.legend()\n\n# Turn off top/right axes\nfor ax in (ax0, ax1, ax2):\n    ax.spines['top'].set_visible(False)\n    ax.spines['right'].set_visible(False)\n    ax.get_xaxis().tick_bottom()\n    ax.get_yaxis().tick_left()\n\nplt.tight_layout()\n\n",
          "language": "python",
          "metadata": {},
          "outputs": []
        },
        {
          "cell_type": "markdown",
          "metadata": {},
          "source": "<div class=\"document\">\n<div class=\"section\" id=\"fuzzy-rules\">\n<h1>Fuzzy rules</h1>\n<p>Now, to make these triangles useful, we define the <em>fuzzy relationship</em>\nbetween input and output variables. For the purposes of our example, consider\nthree simple rules:</p>\n<ol class=\"arabic simple\">\n<li>If the food is bad OR the service is poor, then the tip will be low</li>\n<li>If the service is acceptable, then the tip will be medium</li>\n<li>If the food is great OR the service is amazing, then the tip will be high.</li>\n</ol>\n<p>Most people would agree on these rules, but the rules are fuzzy. Mapping the\nimprecise rules into a defined, actionable tip is a challenge. This is the\nkind of task at which fuzzy logic excels.</p>\n</div>\n<div class=\"section\" id=\"rule-application\">\n<h1>Rule application</h1>\n<p>What would the tip be in the following circumstance:</p>\n<ul class=\"simple\">\n<li>Food <em>quality</em> was <strong>6.5</strong></li>\n<li><em>Service</em> was <strong>9.8</strong></li>\n</ul>\n</div>\n</div>\n"
        },
        {
          "cell_type": "code",
          "collapsed": false,
          "input": "\n# We need the activation of our fuzzy membership functions at these values.\n# The exact values 6.5 and 9.8 do not exist on our universes...\n# This is what fuzz.interp_membership exists for!\nqual_level_lo = fuzz.interp_membership(x_qual, qual_lo, 6.5)\nqual_level_md = fuzz.interp_membership(x_qual, qual_md, 6.5)\nqual_level_hi = fuzz.interp_membership(x_qual, qual_hi, 6.5)\n\nserv_level_lo = fuzz.interp_membership(x_serv, serv_lo, 9.8)\nserv_level_md = fuzz.interp_membership(x_serv, serv_md, 9.8)\nserv_level_hi = fuzz.interp_membership(x_serv, serv_hi, 9.8)\n\n# Now we take our rules and apply them. Rule 1 concerns bad food OR service.\n# The OR operator means we take the maximum of these two.\nactive_rule1 = np.fmax(qual_level_lo, serv_level_lo)\n\n# Now we apply this by clipping the top off the corresponding output\n# membership function with `np.fmin`\ntip_activation_lo = np.fmin(active_rule1, tip_lo)  # removed entirely to 0\n\n# For rule 2 we connect acceptable service to medium tipping\ntip_activation_md = np.fmin(serv_level_md, tip_md)\n\n# For rule 3 we connect high service OR high food with high tipping\nactive_rule3 = np.fmax(qual_level_hi, serv_level_hi)\ntip_activation_hi = np.fmin(active_rule3, tip_hi)\ntip0 = np.zeros_like(x_tip)\n\n# Visualize this\nfig, ax0 = plt.subplots(figsize=(8, 3))\n\nax0.fill_between(x_tip, tip0, tip_activation_lo, facecolor='b', alpha=0.7)\nax0.plot(x_tip, tip_lo, 'b', linewidth=0.5, linestyle='--', )\nax0.fill_between(x_tip, tip0, tip_activation_md, facecolor='g', alpha=0.7)\nax0.plot(x_tip, tip_md, 'g', linewidth=0.5, linestyle='--')\nax0.fill_between(x_tip, tip0, tip_activation_hi, facecolor='r', alpha=0.7)\nax0.plot(x_tip, tip_hi, 'r', linewidth=0.5, linestyle='--')\nax0.set_title('Output membership activity')\n\n# Turn off top/right axes\nfor ax in (ax0,):\n    ax.spines['top'].set_visible(False)\n    ax.spines['right'].set_visible(False)\n    ax.get_xaxis().tick_bottom()\n    ax.get_yaxis().tick_left()\n\nplt.tight_layout()\n\n",
          "language": "python",
          "metadata": {},
          "outputs": []
        },
        {
          "cell_type": "markdown",
          "metadata": {},
          "source": "<div class=\"document\">\n<div class=\"section\" id=\"rule-aggregation\">\n<h1>Rule aggregation</h1>\n<p>With the <em>activity</em> of each output membership function known, all output\nmembership functions must be combined. This is typically done using a\nmaximum operator. This step is also known as <em>aggregation</em>.</p>\n</div>\n<div class=\"section\" id=\"defuzzification\">\n<h1>Defuzzification</h1>\n<p>Finally, to get a real world answer, we return to <em>crisp</em> logic from the\nworld of fuzzy membership functions. For the purposes of this example\nthe centroid method will be used.</p>\n</div>\n<div class=\"section\" id=\"the-result-is-a-tip-of-19-84\">\n<h1>The result is a tip of <strong>19.84%</strong>.</h1>\n</div>\n</div>\n"
        },
        {
          "cell_type": "code",
          "collapsed": false,
          "input": "\n# Aggregate all three output membership functions together\naggregated = np.fmax(tip_activation_lo,\n                     np.fmax(tip_activation_md, tip_activation_hi))\n\n# Calculate defuzzified result\ntip = fuzz.defuzz(x_tip, aggregated, 'centroid')\ntip_activation = fuzz.interp_membership(x_tip, aggregated, tip)  # for plot\n\n# Visualize this\nfig, ax0 = plt.subplots(figsize=(8, 3))\n\nax0.plot(x_tip, tip_lo, 'b', linewidth=0.5, linestyle='--', )\nax0.plot(x_tip, tip_md, 'g', linewidth=0.5, linestyle='--')\nax0.plot(x_tip, tip_hi, 'r', linewidth=0.5, linestyle='--')\nax0.fill_between(x_tip, tip0, aggregated, facecolor='Orange', alpha=0.7)\nax0.plot([tip, tip], [0, tip_activation], 'k', linewidth=1.5, alpha=0.9)\nax0.set_title('Aggregated membership and result (line)')\n\n# Turn off top/right axes\nfor ax in (ax0,):\n    ax.spines['top'].set_visible(False)\n    ax.spines['right'].set_visible(False)\n    ax.get_xaxis().tick_bottom()\n    ax.get_yaxis().tick_left()\n\nplt.tight_layout()\n\n",
          "language": "python",
          "metadata": {},
          "outputs": []
        },
        {
          "cell_type": "markdown",
          "metadata": {},
          "source": "<div class=\"document\" id=\"final-thoughts\">\n<h1 class=\"title\">Final thoughts</h1>\n<p>The power of fuzzy systems is allowing complicated, intuitive behavior based\non a sparse system of rules with minimal overhead. Note our membership\nfunction universes were coarse, only defined at the integers, but\n<tt class=\"docutils literal\">fuzz.interp_membership</tt> allowed the effective resolution to increase on\ndemand. This system can respond to arbitrarily small changes in inputs,\nand the processing burden is minimal.</p>\n</div>\n"
        }
      ],
      "metadata": {}
    }
  ]
}