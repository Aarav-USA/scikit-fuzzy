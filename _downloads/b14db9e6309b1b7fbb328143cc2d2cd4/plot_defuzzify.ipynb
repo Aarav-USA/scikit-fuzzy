{
  "metadata": {
    "name": ""
  },
  "nbformat": 3,
  "nbformat_minor": 0,
  "worksheets": [
    {
      "cells": [
        {
          "cell_type": "code",
          "collapsed": false,
          "input": [
            "%matplotlib inline"
          ],
          "language": "python",
          "metadata": {},
          "outputs": []
        },
        {
          "cell_type": "markdown",
          "metadata": {},
          "source": "<div class=\"document\" id=\"defuzzification\">\n<h1 class=\"title\">Defuzzification</h1>\n<p>Fuzzy logic calculations are excellent tools, but to use them the fuzzy result\nmust be converted back into a single number. This is known as defuzzification.</p>\n<p>There are several possible methods for defuzzification, exposed via\n<cite>skfuzzy.defuzz</cite>.</p>\n</div>\n"
        },
        {
          "cell_type": "code",
          "collapsed": false,
          "input": "import numpy as np\nimport matplotlib.pyplot as plt\nimport skfuzzy as fuzz\n\n\n# Generate trapezoidal membership function on range [0, 1]\nx = np.arange(0, 5.05, 0.1)\nmfx = fuzz.trapmf(x, [2, 2.5, 3, 4.5])\n\n# Defuzzify this membership function five ways\ndefuzz_centroid = fuzz.defuzz(x, mfx, 'centroid')  # Same as skfuzzy.centroid\ndefuzz_bisector = fuzz.defuzz(x, mfx, 'bisector')\ndefuzz_mom = fuzz.defuzz(x, mfx, 'mom')\ndefuzz_som = fuzz.defuzz(x, mfx, 'som')\ndefuzz_lom = fuzz.defuzz(x, mfx, 'lom')\n\n# Collect info for vertical lines\nlabels = ['centroid', 'bisector', 'mean of maximum', 'min of maximum',\n          'max of maximum']\nxvals = [defuzz_centroid,\n         defuzz_bisector,\n         defuzz_mom,\n         defuzz_som,\n         defuzz_lom]\ncolors = ['r', 'b', 'g', 'c', 'm']\nymax = [fuzz.interp_membership(x, mfx, i) for i in xvals]\n\n# Display and compare defuzzification results against membership function\nplt.figure(figsize=(8, 5))\n\nplt.plot(x, mfx, 'k')\nfor xv, y, label, color in zip(xvals, ymax, labels, colors):\n    plt.vlines(xv, 0, y, label=label, color=color)\nplt.ylabel('Fuzzy membership')\nplt.xlabel('Universe variable (arb)')\nplt.ylim(-0.1, 1.1)\nplt.legend(loc=2)\n\nplt.show()\n",
          "language": "python",
          "metadata": {},
          "outputs": []
        }
      ],
      "metadata": {}
    }
  ]
}