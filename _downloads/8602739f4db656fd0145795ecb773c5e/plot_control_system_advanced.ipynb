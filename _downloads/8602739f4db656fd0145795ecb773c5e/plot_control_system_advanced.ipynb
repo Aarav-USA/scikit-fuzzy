{
  "metadata": {
    "name": ""
  },
  "nbformat": 3,
  "nbformat_minor": 0,
  "worksheets": [
    {
      "cells": [
        {
          "cell_type": "code",
          "collapsed": false,
          "input": [
            "%matplotlib inline"
          ],
          "language": "python",
          "metadata": {},
          "outputs": []
        },
        {
          "cell_type": "markdown",
          "metadata": {},
          "source": "<div class=\"document\" id=\"fuzzy-control-systems-advanced-example\">\n<h1 class=\"title\">Fuzzy Control Systems: Advanced Example</h1>\n<p>The <a class=\"reference external\" href=\"./plot_tipping_problem_newapi.html\">tipping problem</a> is a classic,\nsimple example. If you're new to this, start with the <a class=\"reference external\" href=\"../userguide/fuzzy_control_primer.html\">Fuzzy Control Primer</a> and move on to the tipping problem.</p>\n<p>This example assumes you're familiar with those topics. Go on. We'll wait.</p>\n<div class=\"section\" id=\"typical-fuzzy-control-system\">\n<h1>Typical Fuzzy Control System</h1>\n<p>Many fuzzy control systems are tasked to keep a certain variable close to a\nspecific value. For instance, the temperature for an industrial chemical\nprocess might need to be kept relatively constant. In order to do this, the\nsystem usually knows two things:</p>\n<ul class=\"simple\">\n<li>The <cite>error</cite>, or deviation from the ideal value</li>\n<li>The way the error is changing. This is the mathematical first derivative;\nwe'll call it <cite>delta</cite></li>\n</ul>\n<p>From these two values we can construct a system which will act appropriately.</p>\n</div>\n<div class=\"section\" id=\"set-up-the-fuzzy-control-system\">\n<h1>Set up the Fuzzy Control System</h1>\n<p>We'll use the new control system API for this problem. It would be far too\ncomplicated to model manually!</p>\n</div>\n</div>\n"
        },
        {
          "cell_type": "code",
          "collapsed": false,
          "input": "import numpy as np\nimport skfuzzy.control as ctrl\n\n# Sparse universe makes calculations faster, without sacrifice accuracy.\n# Only the critical points are included here; making it higher resolution is\n# unnecessary.\nuniverse = np.linspace(-2, 2, 5)\n\n# Create the three fuzzy variables - two inputs, one output\nerror = ctrl.Antecedent(universe, 'error')\ndelta = ctrl.Antecedent(universe, 'delta')\noutput = ctrl.Consequent(universe, 'output')\n\n# Here we use the convenience `automf` to populate the fuzzy variables with\n# terms. The optional kwarg `names=` lets us specify the names of our Terms.\nnames = ['nb', 'ns', 'ze', 'ps', 'pb']\nerror.automf(names=names)\ndelta.automf(names=names)\noutput.automf(names=names)\n\n",
          "language": "python",
          "metadata": {},
          "outputs": []
        },
        {
          "cell_type": "markdown",
          "metadata": {},
          "source": "<div class=\"document\" id=\"define-complex-rules\">\n<h1 class=\"title\">Define complex rules</h1>\n<p>This system has a complicated, fully connected set of rules defined below.</p>\n</div>\n"
        },
        {
          "cell_type": "code",
          "collapsed": false,
          "input": "rule0 = ctrl.Rule(antecedent=((error['nb'] & delta['nb']) |\n                              (error['ns'] & delta['nb']) |\n                              (error['nb'] & delta['ns'])),\n                  consequent=output['nb'], label='rule nb')\n\nrule1 = ctrl.Rule(antecedent=((error['nb'] & delta['ze']) |\n                              (error['nb'] & delta['ps']) |\n                              (error['ns'] & delta['ns']) |\n                              (error['ns'] & delta['ze']) |\n                              (error['ze'] & delta['ns']) |\n                              (error['ze'] & delta['nb']) |\n                              (error['ps'] & delta['nb'])),\n                  consequent=output['ns'], label='rule ns')\n\nrule2 = ctrl.Rule(antecedent=((error['nb'] & delta['pb']) |\n                              (error['ns'] & delta['ps']) |\n                              (error['ze'] & delta['ze']) |\n                              (error['ps'] & delta['ns']) |\n                              (error['pb'] & delta['nb'])),\n                  consequent=output['ze'], label='rule ze')\n\nrule3 = ctrl.Rule(antecedent=((error['ns'] & delta['pb']) |\n                              (error['ze'] & delta['pb']) |\n                              (error['ze'] & delta['ps']) |\n                              (error['ps'] & delta['ps']) |\n                              (error['ps'] & delta['ze']) |\n                              (error['pb'] & delta['ze']) |\n                              (error['pb'] & delta['ns'])),\n                  consequent=output['ps'], label='rule ps')\n\nrule4 = ctrl.Rule(antecedent=((error['ps'] & delta['pb']) |\n                              (error['pb'] & delta['pb']) |\n                              (error['pb'] & delta['ps'])),\n                  consequent=output['pb'], label='rule pb')\n\n",
          "language": "python",
          "metadata": {},
          "outputs": []
        },
        {
          "cell_type": "markdown",
          "metadata": {},
          "source": "<div class=\"document\">\n<p>Despite the lengthy ruleset, the new fuzzy control system framework will\nexecute in milliseconds. Next we add these rules to a new <tt class=\"docutils literal\">ControlSystem</tt>\nand define a <tt class=\"docutils literal\">ControlSystemSimulation</tt> to run it.</p>\n</div>\n"
        },
        {
          "cell_type": "code",
          "collapsed": false,
          "input": "system = ctrl.ControlSystem(rules=[rule0, rule1, rule2, rule3, rule4])\n\n# Later we intend to run this system with a 21*21 set of inputs, so we allow\n# that many plus one unique runs before results are flushed.\n# Subsequent runs would return in 1/8 the time!\nsim = ctrl.ControlSystemSimulation(system, flush_after_run=21 * 21 + 1)\n",
          "language": "python",
          "metadata": {},
          "outputs": []
        },
        {
          "cell_type": "markdown",
          "metadata": {},
          "source": "<div class=\"document\" id=\"view-the-control-space\">\n<h1 class=\"title\">View the control space</h1>\n<p>With helpful use of Matplotlib and repeated simulations, we can observe what\nthe entire control system surface looks like in three dimensions!</p>\n</div>\n"
        },
        {
          "cell_type": "code",
          "collapsed": false,
          "input": "# We can simulate at higher resolution with full accuracy\nupsampled = np.linspace(-2, 2, 21)\nx, y = np.meshgrid(upsampled, upsampled)\nz = np.zeros_like(x)\n\n# Loop through the system 21*21 times to collect the control surface\nfor i in range(21):\n    for j in range(21):\n        sim.input['error'] = x[i, j]\n        sim.input['delta'] = y[i, j]\n        sim.compute()\n        z[i, j] = sim.output['output']\n\n# Plot the result in pretty 3D with alpha blending\nimport matplotlib.pyplot as plt  # noqa: E402\n\n# Required for 3D plotting\nfrom mpl_toolkits.mplot3d import Axes3D  # noqa: F401,E402\n\nfig = plt.figure(figsize=(8, 8))\nax = fig.add_subplot(111, projection='3d')\n\nsurf = ax.plot_surface(x, y, z, rstride=1, cstride=1, cmap='viridis',\n                       linewidth=0.4, antialiased=True)\n\ncset = ax.contourf(x, y, z, zdir='z', offset=-2.5, cmap='viridis', alpha=0.5)\ncset = ax.contourf(x, y, z, zdir='x', offset=3, cmap='viridis', alpha=0.5)\ncset = ax.contourf(x, y, z, zdir='y', offset=3, cmap='viridis', alpha=0.5)\n\nax.view_init(30, 200)\n",
          "language": "python",
          "metadata": {},
          "outputs": []
        },
        {
          "cell_type": "markdown",
          "metadata": {},
          "source": "<div class=\"document\" id=\"final-thoughts\">\n<h1 class=\"title\">Final thoughts</h1>\n<p>This example used a number of new, advanced techniques which may be helpful in\npractical fuzzy system design:</p>\n<ul class=\"simple\">\n<li>A highly sparse (maximally sparse) system</li>\n<li>Control of Term names generated by <cite>automf</cite></li>\n<li>A long and logically complicated ruleset, with order-of-operations respected</li>\n<li>Control of the cache flushing on creation of a ControlSystemSimulation,\nwhich can be tuned as needed depending on memory constraints</li>\n<li>Repeated runs of a ControlSystemSimulation</li>\n<li>Creating and viewing a control surface in 3D.</li>\n</ul>\n</div>\n"
        }
      ],
      "metadata": {}
    }
  ]
}